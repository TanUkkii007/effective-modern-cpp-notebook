{
 "cells": [
  {
   "cell_type": "markdown",
   "metadata": {},
   "source": [
    "# Chapter 1 Deducing Types"
   ]
  },
  {
   "cell_type": "markdown",
   "metadata": {},
   "source": [
    "## Item 3: Understand decltype.\n",
    "\n",
    "- C++11 での decltype の主要用途は、戻り型が仮引数の型により決定される関数テンプ レートの宣言である\n",
    "- 関数名の前のautoは型推論に関与せず、C++11 の戻り型の後置(trailing return type)構 文を表す。戻り形は->で表す。\n",
    "- 名前ではなく、型を T とする左辺値式については、decltypeは常に T& という型を返す。\n",
    "- C++14 では decltype(auto) が追加された。auto のように初期化子から型を推論するが、適\n",
    "用される推論規則は decltype のものだ"
   ]
  },
  {
   "cell_type": "code",
   "execution_count": 1,
   "metadata": {},
   "outputs": [
    {
     "name": "stdout",
     "output_type": "stream",
     "text": [
      "(long) 201103\n"
     ]
    }
   ],
   "source": [
    "__cplusplus"
   ]
  },
  {
   "cell_type": "code",
   "execution_count": 2,
   "metadata": {},
   "outputs": [],
   "source": [
    "const int i = 0;\n",
    "decltype(i) j = 1;  // decltype(i) is const int"
   ]
  },
  {
   "cell_type": "code",
   "execution_count": 3,
   "metadata": {},
   "outputs": [],
   "source": [
    "bool f(const std::vector<int>& w) {\n",
    "    return true;\n",
    "}\n",
    "\n"
   ]
  },
  {
   "cell_type": "code",
   "execution_count": 4,
   "metadata": {},
   "outputs": [
    {
     "name": "stderr",
     "output_type": "stream",
     "text": [
      "\u001b[1minput_line_38:2:14: \u001b[0m\u001b[0;1;31merror: \u001b[0m\u001b[1millegal initializer (only variables can be initialized)\u001b[0m\n",
      " decltype(f) g = [](const std::vector<int>& w) {\n",
      "\u001b[0;1;32m             ^\n",
      "\u001b[0m"
     ]
    }
   ],
   "source": [
    "decltype(f) g = [](const std::vector<int>& w) {\n",
    "    return true;\n",
    "};"
   ]
  },
  {
   "cell_type": "code",
   "execution_count": 5,
   "metadata": {},
   "outputs": [],
   "source": [
    "struct Point {\n",
    "    int x, y;\n",
    "};\n",
    "\n",
    "// decltype(Point::x) is int\n",
    "decltype(Point::x) z = 1;"
   ]
  },
  {
   "cell_type": "code",
   "execution_count": 6,
   "metadata": {},
   "outputs": [],
   "source": [
    "std::vector<int> v = {1, 2, 3};\n",
    "\n",
    "// decltype(v) is vector<int>\n",
    "decltype(v) w;"
   ]
  },
  {
   "cell_type": "code",
   "execution_count": 7,
   "metadata": {},
   "outputs": [],
   "source": [
    "int a = 4;\n",
    "\n",
    "// decltype(v[0]) is int&\n",
    "decltype(v[0]) u = a;"
   ]
  },
  {
   "cell_type": "code",
   "execution_count": 8,
   "metadata": {},
   "outputs": [],
   "source": [
    "bool h(int x)\n",
    "{\n",
    "        return true;\n",
    "}\n",
    "\n",
    "// decltype(h(1)) is bool\n",
    "decltype(h(1)) o = false;"
   ]
  },
  {
   "cell_type": "code",
   "execution_count": 9,
   "metadata": {},
   "outputs": [],
   "source": [
    "// works, but\n",
    "// requires\n",
    "// refinement\n",
    "template<typename Container, typename Index> auto authAndAccess(Container& c, Index i) -> decltype(c[i])\n",
    "{\n",
    "    return c[i];\n",
    "}"
   ]
  },
  {
   "cell_type": "code",
   "execution_count": 10,
   "metadata": {},
   "outputs": [
    {
     "name": "stderr",
     "output_type": "stream",
     "text": [
      "\u001b[1minput_line_44:4:46: \u001b[0m\u001b[0;1;31merror: \u001b[0m\u001b[1m'auto' return without trailing return type; deduced return types are a C++14 extension\u001b[0m\n",
      "template<typename Container, typename Index> auto anthAndAccess2(Container& c, Index i)\n",
      "\u001b[0;1;32m                                             ^\n",
      "\u001b[0m"
     ]
    }
   ],
   "source": [
    "// C++14;\n",
    "// not quite \n",
    "// correct\n",
    "template<typename Container, typename Index> auto anthAndAccess2(Container& c, Index i)\n",
    "{\n",
    "    return c[i];\n",
    "}"
   ]
  },
  {
   "cell_type": "code",
   "execution_count": 12,
   "metadata": {},
   "outputs": [
    {
     "name": "stderr",
     "output_type": "stream",
     "text": [
      "\u001b[1minput_line_46:5:55: \u001b[0m\u001b[0;1;35mwarning: \u001b[0m\u001b[1m'decltype(auto)' type specifier is a C++14 extension [-Wc++14-extensions]\u001b[0m\n",
      "template<typename Container, typename Index> decltype(auto) authAndAccess3(Container& c, Index i)\n",
      "\u001b[0;1;32m                                                      ^\n",
      "\u001b[0m\u001b[1minput_line_46:5:46: \u001b[0m\u001b[0;1;31merror: \u001b[0m\u001b[1mdeduced return types are a C++14 extension\u001b[0m\n",
      "template<typename Container, typename Index> decltype(auto) authAndAccess3(Container& c, Index i)\n",
      "\u001b[0;1;32m                                             ^\n",
      "\u001b[0m"
     ]
    }
   ],
   "source": [
    "// C++14; works,\n",
    "// but still\n",
    "// requires\n",
    "// refinement\n",
    "template<typename Container, typename Index> decltype(auto) authAndAccess3(Container& c, Index i)\n",
    "{\n",
    "    return c[i];\n",
    "}"
   ]
  },
  {
   "cell_type": "code",
   "execution_count": 13,
   "metadata": {},
   "outputs": [
    {
     "name": "stderr",
     "output_type": "stream",
     "text": [
      "\u001b[1minput_line_47:4:55: \u001b[0m\u001b[0;1;35mwarning: \u001b[0m\u001b[1m'decltype(auto)' type specifier is a C++14 extension [-Wc++14-extensions]\u001b[0m\n",
      "template<typename Container, typename Index> decltype(auto) authAndAccess4(Container&& c, Index i)\n",
      "\u001b[0;1;32m                                                      ^\n",
      "\u001b[0m\u001b[1minput_line_47:4:46: \u001b[0m\u001b[0;1;31merror: \u001b[0m\u001b[1mdeduced return types are a C++14 extension\u001b[0m\n",
      "template<typename Container, typename Index> decltype(auto) authAndAccess4(Container&& c, Index i)\n",
      "\u001b[0;1;32m                                             ^\n",
      "\u001b[0m"
     ]
    }
   ],
   "source": [
    "// c is now a\n",
    "// universal\n",
    "// reference\n",
    "template<typename Container, typename Index> decltype(auto) authAndAccess4(Container&& c, Index i)\n",
    "{\n",
    "    return c[i];\n",
    "}"
   ]
  },
  {
   "cell_type": "code",
   "execution_count": 15,
   "metadata": {},
   "outputs": [
    {
     "name": "stderr",
     "output_type": "stream",
     "text": [
      "\u001b[1minput_line_49:4:55: \u001b[0m\u001b[0;1;35mwarning: \u001b[0m\u001b[1m'decltype(auto)' type specifier is a C++14 extension [-Wc++14-extensions]\u001b[0m\n",
      "template<typename Container, typename Index> decltype(auto) authAndAccess5(Container&& c, Index i)\n",
      "\u001b[0;1;32m                                                      ^\n",
      "\u001b[0m\u001b[1minput_line_49:4:46: \u001b[0m\u001b[0;1;31merror: \u001b[0m\u001b[1mdeduced return types are a C++14 extension\u001b[0m\n",
      "template<typename Container, typename Index> decltype(auto) authAndAccess5(Container&& c, Index i)\n",
      "\u001b[0;1;32m                                             ^\n",
      "\u001b[0m"
     ]
    }
   ],
   "source": [
    "// final\n",
    "// C++14\n",
    "// version\n",
    "template<typename Container, typename Index> decltype(auto) authAndAccess5(Container&& c, Index i)\n",
    "{\n",
    "    return std::forward<Container>(c)[i];\n",
    "}"
   ]
  },
  {
   "cell_type": "code",
   "execution_count": 16,
   "metadata": {},
   "outputs": [],
   "source": [
    "// final\n",
    "// C++11\n",
    "// version\n",
    "template<typename Container, typename Index> auto authAndAccess6(Container&& c, Index i) -> decltype(std::forward<Container>(c)[i])\n",
    "{\n",
    "    return std::forward<Container>(c)[i];\n",
    "}"
   ]
  }
 ],
 "metadata": {
  "kernelspec": {
   "display_name": "ROOT C++",
   "language": "c++",
   "name": "root"
  },
  "language_info": {
   "codemirror_mode": "text/x-c++src",
   "file_extension": ".C",
   "mimetype": " text/x-c++src",
   "name": "c++"
  }
 },
 "nbformat": 4,
 "nbformat_minor": 2
}
