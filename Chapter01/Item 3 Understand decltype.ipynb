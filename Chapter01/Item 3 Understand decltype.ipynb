{
 "cells": [
  {
   "cell_type": "markdown",
   "metadata": {},
   "source": [
    "# Chapter 1 Deducing Types"
   ]
  },
  {
   "cell_type": "markdown",
   "metadata": {},
   "source": [
    "## Item 3: Understand decltype."
   ]
  },
  {
   "cell_type": "code",
   "execution_count": 1,
   "metadata": {},
   "outputs": [],
   "source": [
    "const int i = 0;\n",
    "decltype(i) j = 1;  // decltype(i) is const int"
   ]
  },
  {
   "cell_type": "code",
   "execution_count": 2,
   "metadata": {},
   "outputs": [],
   "source": [
    "bool f(const std::vector<int>& w) {\n",
    "    return true;\n",
    "}\n",
    "\n"
   ]
  },
  {
   "cell_type": "code",
   "execution_count": 3,
   "metadata": {},
   "outputs": [
    {
     "name": "stderr",
     "output_type": "stream",
     "text": [
      "\u001b[1minput_line_36:2:14: \u001b[0m\u001b[0;1;31merror: \u001b[0m\u001b[1millegal initializer (only variables can be initialized)\u001b[0m\n",
      " decltype(f) g = [](const std::vector<int>& w) {\n",
      "\u001b[0;1;32m             ^\n",
      "\u001b[0m"
     ]
    }
   ],
   "source": [
    "decltype(f) g = [](const std::vector<int>& w) {\n",
    "    return true;\n",
    "};"
   ]
  },
  {
   "cell_type": "code",
   "execution_count": 4,
   "metadata": {},
   "outputs": [],
   "source": [
    "struct Point {\n",
    "    int x, y;\n",
    "};\n",
    "\n",
    "// decltype(Point::x) is int\n",
    "decltype(Point::x) z = 1;"
   ]
  },
  {
   "cell_type": "code",
   "execution_count": 5,
   "metadata": {},
   "outputs": [],
   "source": [
    "std::vector<int> v = {1, 2, 3};\n",
    "\n",
    "// decltype(v) is vector<int>\n",
    "decltype(v) w;"
   ]
  },
  {
   "cell_type": "code",
   "execution_count": 6,
   "metadata": {},
   "outputs": [],
   "source": [
    "int a = 4;\n",
    "\n",
    "// decltype(v[0]) is int&\n",
    "decltype(v[0]) u = a;"
   ]
  },
  {
   "cell_type": "code",
   "execution_count": 7,
   "metadata": {},
   "outputs": [],
   "source": [
    "bool h(int x)\n",
    "{\n",
    "        return true;\n",
    "}\n",
    "\n",
    "// decltype(h(1)) is bool\n",
    "decltype(h(1)) o = false;"
   ]
  }
 ],
 "metadata": {
  "kernelspec": {
   "display_name": "ROOT C++",
   "language": "c++",
   "name": "root"
  },
  "language_info": {
   "codemirror_mode": "text/x-c++src",
   "file_extension": ".C",
   "mimetype": " text/x-c++src",
   "name": "c++"
  }
 },
 "nbformat": 4,
 "nbformat_minor": 2
}
