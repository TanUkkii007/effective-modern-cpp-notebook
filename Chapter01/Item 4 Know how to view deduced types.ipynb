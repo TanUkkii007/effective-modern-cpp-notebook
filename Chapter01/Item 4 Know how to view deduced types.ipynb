{
 "cells": [
  {
   "cell_type": "markdown",
   "metadata": {},
   "source": [
    "# Chapter 1 Deducing Types"
   ]
  },
  {
   "cell_type": "markdown",
   "metadata": {},
   "source": [
    "## Item 4: Know how to view deduced types.\n",
    "\n",
    "- クラステンプレートを宣言して、定義はしないでおき、インスタンス化した際のコンパイルエラーでインスタンスの型情報を取得できる\n",
    "- typeidやstd::type_info::nameの出力は不正確である"
   ]
  },
  {
   "cell_type": "code",
   "execution_count": 1,
   "metadata": {},
   "outputs": [
    {
     "name": "stdout",
     "output_type": "stream",
     "text": [
      "(long) 201103\n"
     ]
    }
   ],
   "source": [
    "__cplusplus"
   ]
  },
  {
   "cell_type": "code",
   "execution_count": 2,
   "metadata": {},
   "outputs": [],
   "source": [
    "// declaration only for TD;\n",
    "// TD == \"Type Displayer\"\n",
    "template<typename T> class TD;"
   ]
  },
  {
   "cell_type": "markdown",
   "metadata": {},
   "source": [
    "### コンパイラによる診断情報"
   ]
  },
  {
   "cell_type": "code",
   "execution_count": 3,
   "metadata": {},
   "outputs": [
    {
     "name": "stderr",
     "output_type": "stream",
     "text": [
      "\u001b[1minput_line_37:3:17: \u001b[0m\u001b[0;1;31merror: \u001b[0m\u001b[1mimplicit instantiation of undefined template 'TD<int>'\u001b[0m\n",
      "TD<decltype(x)> xType;\n",
      "\u001b[0;1;32m                ^\n",
      "\u001b[0m\u001b[1minput_line_36:3:28: \u001b[0m\u001b[0;1;30mnote: \u001b[0mtemplate is declared here\u001b[0m\n",
      "template<typename T> class TD;\n",
      "\u001b[0;1;32m                           ^\n",
      "\u001b[0m"
     ]
    }
   ],
   "source": [
    "int x = 1;\n",
    "TD<decltype(x)> xType;"
   ]
  },
  {
   "cell_type": "code",
   "execution_count": 4,
   "metadata": {},
   "outputs": [
    {
     "name": "stderr",
     "output_type": "stream",
     "text": [
      "\u001b[1minput_line_38:3:17: \u001b[0m\u001b[0;1;31merror: \u001b[0m\u001b[1mimplicit instantiation of undefined template 'TD<const std::__1::vector<int, std::__1::allocator<int> > >'\u001b[0m\n",
      "TD<decltype(y)> yType;\n",
      "\u001b[0;1;32m                ^\n",
      "\u001b[0m\u001b[1minput_line_36:3:28: \u001b[0m\u001b[0;1;30mnote: \u001b[0mtemplate is declared here\u001b[0m\n",
      "template<typename T> class TD;\n",
      "\u001b[0;1;32m                           ^\n",
      "\u001b[0m"
     ]
    }
   ],
   "source": [
    "const std::vector<int>  y {1, 2, 3};\n",
    "TD<decltype(y)> yType;"
   ]
  },
  {
   "cell_type": "markdown",
   "metadata": {},
   "source": [
    "### 実行時出力"
   ]
  },
  {
   "cell_type": "code",
   "execution_count": 5,
   "metadata": {},
   "outputs": [],
   "source": [
    "int x = 1;\n",
    "typeid(x).name();"
   ]
  },
  {
   "cell_type": "code",
   "execution_count": 6,
   "metadata": {},
   "outputs": [],
   "source": [
    "const std::vector<int>  y {1, 2, 3};\n",
    "typeid(y).name();"
   ]
  },
  {
   "cell_type": "code",
   "execution_count": 7,
   "metadata": {},
   "outputs": [],
   "source": [
    "template<typename T> void f(const T& param)\n",
    "{\n",
    "    std::cout << \"T = \" << typeid(T).name() << std::endl;\n",
    "    std::cout << \"param = \" << typeid(param).name() << std::endl;\n",
    "}"
   ]
  },
  {
   "cell_type": "code",
   "execution_count": 8,
   "metadata": {},
   "outputs": [],
   "source": [
    "class Widget {\n",
    "    int x, y;\n",
    "    public:\n",
    "    Widget(int _x, int _y): x(_x), y(_y) {}\n",
    "}"
   ]
  },
  {
   "cell_type": "code",
   "execution_count": 9,
   "metadata": {},
   "outputs": [
    {
     "name": "stdout",
     "output_type": "stream",
     "text": [
      "T = 6Widget\n",
      "param = 6Widget\n"
     ]
    }
   ],
   "source": [
    "auto w = Widget {1, 2};\n",
    "const auto& wr = w;\n",
    "f(wr);"
   ]
  }
 ],
 "metadata": {
  "kernelspec": {
   "display_name": "ROOT C++",
   "language": "c++",
   "name": "root"
  },
  "language_info": {
   "codemirror_mode": "text/x-c++src",
   "file_extension": ".C",
   "mimetype": " text/x-c++src",
   "name": "c++"
  }
 },
 "nbformat": 4,
 "nbformat_minor": 2
}
