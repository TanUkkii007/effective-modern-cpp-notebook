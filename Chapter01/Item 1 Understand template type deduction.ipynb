{
 "cells": [
  {
   "cell_type": "markdown",
   "metadata": {},
   "source": [
    "# Chapter 1 Deducing Types"
   ]
  },
  {
   "cell_type": "markdown",
   "metadata": {},
   "source": [
    "## Item 1: Understand template type deduction."
   ]
  },
  {
   "cell_type": "markdown",
   "metadata": {},
   "source": [
    "```cpp\n",
    "template<typename T> void f(ParamType param);\n",
    "f(expr); // deduce T and ParamType from expr\n",
    "```"
   ]
  },
  {
   "cell_type": "markdown",
   "metadata": {},
   "source": [
    "### Case 1: ParamType が参照もしくはポインタだが、ユニヴァーサル参照ではない\n",
    "\n",
    "1. expr が参照型ならば、参照性(参照動作部分)を無視する。\n",
    "2. expr の型を ParamType とパターンマッチングし、T を決定する。"
   ]
  },
  {
   "cell_type": "code",
   "execution_count": 1,
   "metadata": {},
   "outputs": [],
   "source": [
    "template<typename T> void f(T& param) {\n",
    "    std::cout << param << std::endl;\n",
    "}"
   ]
  },
  {
   "cell_type": "code",
   "execution_count": 2,
   "metadata": {},
   "outputs": [
    {
     "name": "stdout",
     "output_type": "stream",
     "text": [
      "27\n"
     ]
    }
   ],
   "source": [
    "// T is int, param's type is int&\n",
    "\n",
    "int x = 27;\n",
    "f(x);"
   ]
  },
  {
   "cell_type": "code",
   "execution_count": 3,
   "metadata": {},
   "outputs": [
    {
     "name": "stdout",
     "output_type": "stream",
     "text": [
      "27\n"
     ]
    }
   ],
   "source": [
    "// T is const int,\n",
    "// param's type is const int&\n",
    "\n",
    "const int cx = x;\n",
    "f(cx);"
   ]
  },
  {
   "cell_type": "code",
   "execution_count": 4,
   "metadata": {},
   "outputs": [
    {
     "name": "stdout",
     "output_type": "stream",
     "text": [
      "27\n"
     ]
    }
   ],
   "source": [
    "// T is const int,\n",
    "// param's type is const int&\n",
    "\n",
    "const int& rx = x;\n",
    "f(rx);"
   ]
  },
  {
   "cell_type": "code",
   "execution_count": 5,
   "metadata": {},
   "outputs": [],
   "source": [
    "template<typename T> void f_const(const T& param) {\n",
    "    std::cout << param << std::endl;\n",
    "}"
   ]
  },
  {
   "cell_type": "code",
   "execution_count": 6,
   "metadata": {},
   "outputs": [
    {
     "name": "stdout",
     "output_type": "stream",
     "text": [
      "27\n"
     ]
    }
   ],
   "source": [
    "// T is int, param's type is const int&\n",
    "\n",
    "f_const(x)"
   ]
  },
  {
   "cell_type": "code",
   "execution_count": 7,
   "metadata": {},
   "outputs": [
    {
     "name": "stdout",
     "output_type": "stream",
     "text": [
      "27\n"
     ]
    }
   ],
   "source": [
    "// T is int, param's type is const int&\n",
    "\n",
    "f_const(cx);"
   ]
  },
  {
   "cell_type": "code",
   "execution_count": 8,
   "metadata": {},
   "outputs": [
    {
     "name": "stdout",
     "output_type": "stream",
     "text": [
      "27\n"
     ]
    }
   ],
   "source": [
    "// T is int, param's type is const int&\n",
    "\n",
    "f_const(rx);"
   ]
  },
  {
   "cell_type": "code",
   "execution_count": 9,
   "metadata": {},
   "outputs": [],
   "source": [
    "template<typename T> void f_pointer(T* param) {\n",
    "    std::cout << param << std::endl;\n",
    "}"
   ]
  },
  {
   "cell_type": "code",
   "execution_count": 10,
   "metadata": {},
   "outputs": [
    {
     "name": "stdout",
     "output_type": "stream",
     "text": [
      "0x10360be4c\n"
     ]
    }
   ],
   "source": [
    "// T is int, param's type is int*\n",
    "\n",
    "f_pointer(&x);"
   ]
  },
  {
   "cell_type": "code",
   "execution_count": 11,
   "metadata": {},
   "outputs": [
    {
     "name": "stdout",
     "output_type": "stream",
     "text": [
      "0x10360be4c\n"
     ]
    }
   ],
   "source": [
    "// T is const int,\n",
    "// param's type is const int*\n",
    "\n",
    "const int *px = &x;\n",
    "f_pointer(px);"
   ]
  },
  {
   "cell_type": "markdown",
   "metadata": {},
   "source": [
    "### Case 2: ParamType がユニヴァーサル参照である\n",
    "\n",
    "- expr が左辺値ならば、T も ParamType も左辺値参照と推論される。これは 2 つの意味で特 殊である。まず、テンプレートの型推論で、T を参照として推論するのはこの場合だけであ る。もう 1 つは、ParamType の宣言には右辺値参照という形態をとりながら、推論される型 は左辺値参照となる点である。\n",
    "- expr が右辺値の場合は、「通常の」規則が適用される(ケース 1)。"
   ]
  },
  {
   "cell_type": "code",
   "execution_count": 12,
   "metadata": {},
   "outputs": [],
   "source": [
    "// param is now a universal reference\n",
    "\n",
    "template<typename T> void f_universal(T&& param) {\n",
    "    std::cout << param << std::endl;\n",
    "}"
   ]
  },
  {
   "cell_type": "code",
   "execution_count": 13,
   "metadata": {},
   "outputs": [
    {
     "name": "stdout",
     "output_type": "stream",
     "text": [
      "27\n"
     ]
    }
   ],
   "source": [
    "// x is lvalue, so T is int&, // param's type is also int&\n",
    "\n",
    "int y = 27;\n",
    "f_universal(y);"
   ]
  },
  {
   "cell_type": "code",
   "execution_count": 14,
   "metadata": {},
   "outputs": [
    {
     "name": "stdout",
     "output_type": "stream",
     "text": [
      "27\n"
     ]
    }
   ],
   "source": [
    "// cx is lvalue, so T is const int&,\n",
    "// param's type is also const int&\n",
    "\n",
    "const int cy = y;\n",
    "f_universal(cy);"
   ]
  },
  {
   "cell_type": "code",
   "execution_count": 15,
   "metadata": {},
   "outputs": [
    {
     "name": "stdout",
     "output_type": "stream",
     "text": [
      "27\n"
     ]
    }
   ],
   "source": [
    "// rx is lvalue, so T is const int&, \n",
    "// param's type is also const int&\n",
    "\n",
    "const int& ry = y;\n",
    "f_universal(ry);"
   ]
  },
  {
   "cell_type": "code",
   "execution_count": 16,
   "metadata": {},
   "outputs": [
    {
     "name": "stdout",
     "output_type": "stream",
     "text": [
      "27\n"
     ]
    }
   ],
   "source": [
    "// 27 is rvalue, so T is int,\n",
    "// param's type is therefore int&&\n",
    "\n",
    "f_universal(27);"
   ]
  },
  {
   "cell_type": "markdown",
   "metadata": {},
   "source": [
    "### Case 3: ParamType がポインタでも参照でもない\n",
    "\n",
    "ParamType がポインタでも参照でもなければ、値渡しとなる。\n",
    "\n",
    "1. これまでと同様に、expr の型が参照であれば、参照性(参照動作部分)は無視される。\n",
    "2. 参照性を無視した expr が const であれば、これも無視する。volatile であれば、同様にこ れも無視する(volatile オブジェクトは滅多に使用されない。使用されるのは一般にデバイスドライバを実装する場合に限られる。詳細は項目 40 を参照)。"
   ]
  },
  {
   "cell_type": "code",
   "execution_count": 17,
   "metadata": {},
   "outputs": [],
   "source": [
    "template<typename T> void f_value(T param) {\n",
    "    std::cout << param << std::endl;\n",
    "}"
   ]
  },
  {
   "cell_type": "code",
   "execution_count": 18,
   "metadata": {},
   "outputs": [
    {
     "name": "stdout",
     "output_type": "stream",
     "text": [
      "27\n"
     ]
    }
   ],
   "source": [
    "// T's and param's types are both int\n",
    "\n",
    "int z = 27;\n",
    "f_value(z);"
   ]
  },
  {
   "cell_type": "code",
   "execution_count": 19,
   "metadata": {},
   "outputs": [
    {
     "name": "stdout",
     "output_type": "stream",
     "text": [
      "27\n"
     ]
    }
   ],
   "source": [
    "// T's and param's types are again both int\n",
    "\n",
    "const int cz = z;\n",
    "f_value(cz);"
   ]
  },
  {
   "cell_type": "code",
   "execution_count": 20,
   "metadata": {},
   "outputs": [
    {
     "name": "stdout",
     "output_type": "stream",
     "text": [
      "27\n"
     ]
    }
   ],
   "source": [
    "// T's and param's types are still both int\n",
    "\n",
    "const int& rz = z;\n",
    "f_value(rz);"
   ]
  },
  {
   "cell_type": "code",
   "execution_count": 21,
   "metadata": {},
   "outputs": [
    {
     "name": "stdout",
     "output_type": "stream",
     "text": [
      "Fun with pointers\n"
     ]
    }
   ],
   "source": [
    "// param's type is const char*\n",
    "\n",
    "const char* const ptr = \"Fun with pointers\";\n",
    "f_value(ptr)"
   ]
  },
  {
   "cell_type": "markdown",
   "metadata": {},
   "source": [
    "### 配列実引数\n",
    "\n",
    "- 配列仮引数の宣言は、ポインタ仮引数として扱われるため、テンプレート関数へ値渡しされた配 列の型はポインタ型と推論される\n",
    "- 関数は仮引数を真の配列とは宣言できないが、配列の参照として は宣言できる"
   ]
  },
  {
   "cell_type": "code",
   "execution_count": 22,
   "metadata": {},
   "outputs": [],
   "source": [
    "const char name[] = \"J. P. Briggs\"; // name's type is const char[13]"
   ]
  },
  {
   "cell_type": "code",
   "execution_count": 23,
   "metadata": {},
   "outputs": [],
   "source": [
    "const char * ptrToName = name; // array decays to pointer"
   ]
  },
  {
   "cell_type": "code",
   "execution_count": 24,
   "metadata": {},
   "outputs": [],
   "source": [
    "template<typename T> void f_array_value(T param) {\n",
    "    std::cout << param << std::endl;\n",
    "}"
   ]
  },
  {
   "cell_type": "code",
   "execution_count": 25,
   "metadata": {},
   "outputs": [
    {
     "name": "stdout",
     "output_type": "stream",
     "text": [
      "J. P. Briggs\n"
     ]
    }
   ],
   "source": [
    "f_array_value(name); // name is array, but T deduced as const char*"
   ]
  },
  {
   "cell_type": "code",
   "execution_count": 26,
   "metadata": {},
   "outputs": [],
   "source": [
    "template<typename T> void f_array_reference(T& param) {\n",
    "    std::cout << param << std::endl;\n",
    "}"
   ]
  },
  {
   "cell_type": "code",
   "execution_count": 27,
   "metadata": {},
   "outputs": [
    {
     "name": "stdout",
     "output_type": "stream",
     "text": [
      "J. P. Briggs\n"
     ]
    }
   ],
   "source": [
    "f_array_reference(name); //  name is array, and T deduced as const char [13]"
   ]
  },
  {
   "cell_type": "code",
   "execution_count": 28,
   "metadata": {},
   "outputs": [],
   "source": [
    "// return size of an array as a compile-time constant. (The\n",
    "// array parameter has no name, because we care only about\n",
    "// the number of elements it contains.)\n",
    "template<typename T, std::size_t N> constexpr std::size_t arraySize(T (&)[N]) noexcept\n",
    "{\n",
    "    return N;\n",
    "}"
   ]
  },
  {
   "cell_type": "code",
   "execution_count": 29,
   "metadata": {},
   "outputs": [],
   "source": [
    "int keyVals[] = {1,3,7,9,11,22,35};\n",
    "std::array<int, arraySize(keyVals)> mappedVals;"
   ]
  },
  {
   "cell_type": "markdown",
   "metadata": {},
   "source": [
    "### 関数実引数\n",
    "\n",
    "- 関数型も配列同様、関数ポインタに成り下がる\n",
    "- 関数の参照としても宣言できる"
   ]
  },
  {
   "cell_type": "code",
   "execution_count": 30,
   "metadata": {},
   "outputs": [],
   "source": [
    "void someFunc(int, double)\n",
    "{\n",
    "    \n",
    "}"
   ]
  },
  {
   "cell_type": "code",
   "execution_count": 31,
   "metadata": {},
   "outputs": [],
   "source": [
    "template<typename T> void f1(T param)\n",
    "{\n",
    "    std::cout << param << std::endl;\n",
    "}"
   ]
  },
  {
   "cell_type": "code",
   "execution_count": 32,
   "metadata": {},
   "outputs": [
    {
     "name": "stdout",
     "output_type": "stream",
     "text": [
      "1\n"
     ]
    }
   ],
   "source": [
    "// param deduced as ptr-to-func; \n",
    "// type is void (*)(int, double)\n",
    "f1(someFunc);"
   ]
  },
  {
   "cell_type": "code",
   "execution_count": 33,
   "metadata": {},
   "outputs": [],
   "source": [
    "template<typename T> void f2(T& param)\n",
    "{\n",
    "    std::cout << param << std::endl;\n",
    "}"
   ]
  },
  {
   "cell_type": "code",
   "execution_count": 34,
   "metadata": {},
   "outputs": [
    {
     "name": "stdout",
     "output_type": "stream",
     "text": [
      "1\n"
     ]
    }
   ],
   "source": [
    "// param deduced as ref-to-func;\n",
    "// type is void (&)(int, double)\n",
    "f2(someFunc);"
   ]
  }
 ],
 "metadata": {
  "kernelspec": {
   "display_name": "ROOT C++",
   "language": "c++",
   "name": "root"
  },
  "language_info": {
   "codemirror_mode": "text/x-c++src",
   "file_extension": ".C",
   "mimetype": " text/x-c++src",
   "name": "c++"
  }
 },
 "nbformat": 4,
 "nbformat_minor": 2
}
