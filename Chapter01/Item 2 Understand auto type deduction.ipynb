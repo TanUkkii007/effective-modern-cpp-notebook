{
 "cells": [
  {
   "cell_type": "markdown",
   "metadata": {},
   "source": [
    "# Chapter 1 Deducing Types"
   ]
  },
  {
   "cell_type": "markdown",
   "metadata": {},
   "source": [
    "## Item 2: Understand auto type deduction.\n",
    "\n",
    "- １つの例外を除き、autoの型推論はテンプレートの型推論と同一である\n",
    "- auto を用いた変数宣言では、テンプレートの型推論における型指定子が ParamType に相当する\n",
    "- 例外的に`auto x3 = { 27 };`という初期化方法のときのみ、型推論の結果は`int`ではなく`std::initializer_list<int>`となる"
   ]
  },
  {
   "cell_type": "markdown",
   "metadata": {},
   "source": [
    "### Case 1: 型指定子が参照もしくはポインタだが、ユニヴァーサル参照ではない\n",
    "\n",
    "1. expr が参照型ならば、参照性(参照動作部分)を無視する。\n",
    "2. expr の型を ParamType とパターンマッチングし、T を決定する。"
   ]
  },
  {
   "cell_type": "code",
   "execution_count": 1,
   "metadata": {},
   "outputs": [],
   "source": [
    "const auto& rx = 27;"
   ]
  },
  {
   "cell_type": "markdown",
   "metadata": {},
   "source": [
    "### Case 2: 型指定子がユニヴァーサル参照である\n",
    "\n",
    "1. expr が左辺値ならば、T も ParamType も左辺値参照と推論される。これは 2 つの意味で特 殊である。まず、テンプレートの型推論で、T を参照として推論するのはこの場合だけであ る。もう 1 つは、ParamType の宣言には右辺値参照という形態をとりながら、推論される型 は左辺値参照となる点である。\n",
    "2. expr が右辺値の場合は、「通常の」規則が適用される(ケース 1)。"
   ]
  },
  {
   "cell_type": "code",
   "execution_count": 2,
   "metadata": {},
   "outputs": [],
   "source": [
    "int x = 27;\n",
    "\n",
    "// x is int and lvalue,\n",
    "// so uref1's type is int&\n",
    "auto&& uref1 = x;"
   ]
  },
  {
   "cell_type": "code",
   "execution_count": 3,
   "metadata": {},
   "outputs": [],
   "source": [
    "const int cx = x;\n",
    "\n",
    "// cx is const int and lvalue,\n",
    "// so uref2's type is const int&\n",
    "auto&& uref2 = cx;"
   ]
  },
  {
   "cell_type": "code",
   "execution_count": 4,
   "metadata": {},
   "outputs": [],
   "source": [
    "// 27 is int and rvalue,\n",
    "// so uref3's type is int&&\n",
    "\n",
    "auto&& uref3 = 27;"
   ]
  },
  {
   "cell_type": "markdown",
   "metadata": {},
   "source": [
    "### Case 3: 型指定子がポインタでも参照でもない\n",
    "\n",
    "1. これまでと同様に、expr の型が参照であれば、参照性(参照動作部分)は無視される。\n",
    "2. 参照性を無視した expr が const であれば、これも無視する。volatile であれば、同様にこ れも無視する(volatile オブジェクトは滅多に使用されない。使用されるのは一般にデバイスドライバを実装する場合に限られる。詳細は項目 40 を参照)。"
   ]
  },
  {
   "cell_type": "code",
   "execution_count": 5,
   "metadata": {},
   "outputs": [],
   "source": [
    "auto xx = 27;"
   ]
  },
  {
   "cell_type": "code",
   "execution_count": 6,
   "metadata": {},
   "outputs": [],
   "source": [
    "const auto cxx = xx;"
   ]
  },
  {
   "cell_type": "markdown",
   "metadata": {},
   "source": [
    "### 配列および関数名は非参照型指定子のポインタに成り下がる"
   ]
  },
  {
   "cell_type": "code",
   "execution_count": 7,
   "metadata": {},
   "outputs": [],
   "source": [
    "const char name[] = \"R. N. Briggs\";\n",
    "\n",
    "// arr1's type is const char*\n",
    "auto arr1 = name;\n",
    "\n",
    "// arr2's type is const char (&)[13]\n",
    "auto& arr2 = name;"
   ]
  },
  {
   "cell_type": "code",
   "execution_count": 8,
   "metadata": {},
   "outputs": [],
   "source": [
    "void someFunc(int, double) {};\n",
    "\n",
    "// func1's type is\n",
    "// void (*)(int, double)\n",
    "auto func1 = someFunc;\n",
    "\n",
    "// func2's type is\n",
    "// void (&)(int, double)\n",
    "auto& func2 = someFunc;"
   ]
  },
  {
   "cell_type": "markdown",
   "metadata": {},
   "source": [
    "### autoの型推論の例外\n",
    "\n",
    "4つの初期化方法で`x3`のみが`int`ではなく、`std::initializer_list<int>`型となる。\n",
    "\n",
    "```cpp\n",
    "auto x1 = 27;\n",
    "auto x2(27);\n",
    "auto x3 = { 27 };\n",
    "auto x4{ 27 };\n",
    "```"
   ]
  },
  {
   "cell_type": "code",
   "execution_count": 9,
   "metadata": {},
   "outputs": [],
   "source": [
    "int z1 = 27;\n",
    "auto zz1 = 27;"
   ]
  },
  {
   "cell_type": "code",
   "execution_count": 10,
   "metadata": {},
   "outputs": [
    {
     "name": "stdout",
     "output_type": "stream",
     "text": [
      "input_line_42     3 (address: NA) auto zz1 = 27\n"
     ]
    }
   ],
   "source": [
    ".g zz1"
   ]
  },
  {
   "cell_type": "code",
   "execution_count": 11,
   "metadata": {},
   "outputs": [],
   "source": [
    "int z2(27);\n",
    "auto zz2(27);"
   ]
  },
  {
   "cell_type": "code",
   "execution_count": 12,
   "metadata": {},
   "outputs": [
    {
     "name": "stdout",
     "output_type": "stream",
     "text": [
      "input_line_43     3 (address: NA) auto zz2(27)\n"
     ]
    }
   ],
   "source": [
    ".g zz2"
   ]
  },
  {
   "cell_type": "code",
   "execution_count": 13,
   "metadata": {},
   "outputs": [],
   "source": [
    "int z3 = { 27 };\n",
    "// type is std::initializer_list<int>, // value is { 27 }\n",
    "auto zz3 = { 27 };"
   ]
  },
  {
   "cell_type": "code",
   "execution_count": 14,
   "metadata": {},
   "outputs": [
    {
     "name": "stdout",
     "output_type": "stream",
     "text": [
      "input_line_44     4 (address: NA) auto zz3 = {27}, size = 16\n"
     ]
    }
   ],
   "source": [
    ".g zz3"
   ]
  },
  {
   "cell_type": "code",
   "execution_count": 15,
   "metadata": {},
   "outputs": [],
   "source": [
    "// From C++17 type is int, NOT std::initializer_list<int>\n",
    "int z4{ 27 };\n",
    "auto zz4{ 27 };"
   ]
  },
  {
   "cell_type": "code",
   "execution_count": 16,
   "metadata": {},
   "outputs": [
    {
     "name": "stdout",
     "output_type": "stream",
     "text": [
      "input_line_45     4 (address: NA) auto zz4{27}\n"
     ]
    }
   ],
   "source": [
    ".g zz4"
   ]
  }
 ],
 "metadata": {
  "kernelspec": {
   "display_name": "ROOT C++",
   "language": "c++",
   "name": "root"
  },
  "language_info": {
   "codemirror_mode": "text/x-c++src",
   "file_extension": ".C",
   "mimetype": " text/x-c++src",
   "name": "c++"
  }
 },
 "nbformat": 4,
 "nbformat_minor": 2
}
