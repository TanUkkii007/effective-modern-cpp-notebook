{
 "cells": [
  {
   "cell_type": "markdown",
   "metadata": {},
   "source": [
    "# Chapter 2 auto"
   ]
  },
  {
   "cell_type": "markdown",
   "metadata": {},
   "source": [
    "## Item 5: Prefer auto to explicit type declarations.\n",
    "\n",
    "- auto で宣言した変数は初期化する必要があり、一般に可搬性や効率に関する問題を引き起こ す型の不一致を防げ、リファクタリング作業を容易にし、型を明示的に記述するよりも通常 はタイプ量が少なくて済む。"
   ]
  },
  {
   "cell_type": "code",
   "execution_count": 1,
   "metadata": {},
   "outputs": [],
   "source": [
    "// potentially uninitialized\n",
    "int x1;"
   ]
  },
  {
   "cell_type": "code",
   "execution_count": 2,
   "metadata": {},
   "outputs": [
    {
     "name": "stderr",
     "output_type": "stream",
     "text": [
      "\u001b[1minput_line_35:3:6: \u001b[0m\u001b[0;1;31merror: \u001b[0m\u001b[1mdeclaration of variable 'x2' with deduced type 'auto' requires an initializer\u001b[0m\n",
      "auto x2;\n",
      "\u001b[0;1;32m     ^\n",
      "\u001b[0m"
     ]
    }
   ],
   "source": [
    "// error! initializer required\n",
    "auto x2;"
   ]
  },
  {
   "cell_type": "code",
   "execution_count": 3,
   "metadata": {},
   "outputs": [],
   "source": [
    "// fine, x3's value is well-defined\n",
    "auto x3 = 0;"
   ]
  },
  {
   "cell_type": "code",
   "execution_count": 4,
   "metadata": {},
   "outputs": [
    {
     "name": "stdout",
     "output_type": "stream",
     "text": [
      "1\n",
      "2\n",
      "3\n"
     ]
    }
   ],
   "source": [
    "std::vector<int> xs {1, 2, 3};\n",
    "\n",
    "for (auto it = xs.begin(); it != xs.end(); ++it) {\n",
    "    auto value = *it;\n",
    "    std::cout << value << std::endl;\n",
    "}"
   ]
  },
  {
   "cell_type": "code",
   "execution_count": 5,
   "metadata": {},
   "outputs": [],
   "source": [
    "struct Widget {\n",
    "    int x;\n",
    "};\n",
    "\n",
    "// comparison func.\n",
    "// for Widgets\n",
    "// pointed to by\n",
    "// std::unique_ptrs\n",
    "auto derefUpLess = [](const std::unique_ptr<Widget>& p1,\n",
    "                                       const std::unique_ptr<Widget>& p2)\n",
    "{\n",
    "    return p1->x < p2->x;\n",
    "};"
   ]
  },
  {
   "cell_type": "code",
   "execution_count": 6,
   "metadata": {},
   "outputs": [
    {
     "name": "stderr",
     "output_type": "stream",
     "text": [
      "\u001b[1minput_line_39:5:29: \u001b[0m\u001b[0;1;31merror: \u001b[0m\u001b[1m'auto' not allowed in lambda parameter\u001b[0m\n",
      "auto derefUpLess = [](const auto& p1,\n",
      "\u001b[0;1;32m                            ^~~~\n",
      "\u001b[0m\u001b[1minput_line_39:6:46: \u001b[0m\u001b[0;1;31merror: \u001b[0m\u001b[1m'auto' not allowed in lambda parameter\u001b[0m\n",
      "                                       const auto& p2)\n",
      "\u001b[0;1;32m                                             ^~~~\n",
      "\u001b[0m\u001b[1minput_line_39:5:6: \u001b[0m\u001b[0;1;31merror: \u001b[0m\u001b[1mredefinition of 'derefUpLess' with a different type: '(lambda at input_line_39:5:20)' vs '(lambda at input_line_38:10:21)'\u001b[0m\n",
      "auto derefUpLess = [](const auto& p1,\n",
      "\u001b[0;1;32m     ^\n",
      "\u001b[0m\u001b[1minput_line_38:10:7: \u001b[0m\u001b[0;1;30mnote: \u001b[0mprevious definition is here\u001b[0m\n",
      " auto derefUpLess = [](const std::unique_ptr<Widget>& p1,\n",
      "\u001b[0;1;32m      ^\n",
      "\u001b[0m"
     ]
    }
   ],
   "source": [
    "// C++14 comparison\n",
    "// function for\n",
    "// values pointed\n",
    "auto derefUpLess = [](const auto& p1,\n",
    "                                       const auto& p2)\n",
    "{\n",
    "    return *p1 < *p2;\n",
    "};"
   ]
  },
  {
   "cell_type": "code",
   "execution_count": 7,
   "metadata": {},
   "outputs": [],
   "source": [
    "std::function<bool(const std::unique_ptr<Widget>&,\n",
    "                                 const std::unique_ptr<Widget>&)>\n",
    "                                 derefUPLessVerbose = [](const std::unique_ptr<Widget>& p1,\n",
    "                                                                              const std::unique_ptr<Widget>& p2)\n",
    "{\n",
    "    return p1->x < p2->x;\n",
    "};"
   ]
  },
  {
   "cell_type": "code",
   "execution_count": 8,
   "metadata": {},
   "outputs": [],
   "source": [
    "std::vector<int> v {1,2,3};\n",
    "// sz's type is std::vector<int>::size_type\n",
    "auto sz = v.size();"
   ]
  },
  {
   "cell_type": "code",
   "execution_count": 9,
   "metadata": {},
   "outputs": [
    {
     "name": "stdout",
     "output_type": "stream",
     "text": [
      "b2\n",
      "a1\n",
      "b2\n",
      "a1\n"
     ]
    }
   ],
   "source": [
    "std::unordered_map<std::string, int> m {{\"a\", 1}, {\"b\", 2}};\n",
    "// Wrong. Its type is actually std::pair<const std::string, int>.\n",
    "for (const std::pair<std::string, int>& p: m)\n",
    "{\n",
    "    std::cout << p.first << p.second << std::endl;\n",
    "}\n",
    "\n",
    "for (const auto& p: m)\n",
    "{\n",
    "    std::cout << p.first << p.second << std::endl;\n",
    "}"
   ]
  }
 ],
 "metadata": {
  "kernelspec": {
   "display_name": "ROOT C++",
   "language": "c++",
   "name": "root"
  },
  "language_info": {
   "codemirror_mode": "text/x-c++src",
   "file_extension": ".C",
   "mimetype": " text/x-c++src",
   "name": "c++"
  }
 },
 "nbformat": 4,
 "nbformat_minor": 2
}
